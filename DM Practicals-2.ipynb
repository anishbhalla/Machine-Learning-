{
 "cells": [
  {
   "cell_type": "code",
   "execution_count": 1,
   "id": "9ea1c6e9-7db5-431b-8e94-cf8467a9520a",
   "metadata": {},
   "outputs": [],
   "source": [
    "import pandas as pd\n",
    "import numpy as np"
   ]
  },
  {
   "cell_type": "markdown",
   "id": "3015637d-fc15-4456-9eec-55aca9c12d07",
   "metadata": {},
   "source": [
    "#### Dividing Data into train and test hold_out"
   ]
  },
  {
   "cell_type": "code",
   "execution_count": 2,
   "id": "83df47c8-1c6b-4738-90d7-9a672ea9ef7f",
   "metadata": {},
   "outputs": [],
   "source": [
    "#Dividing Data into train and test hold_out\n",
    "\n",
    "from sklearn import datasets\n",
    "from sklearn.model_selection import train_test_split\n",
    "from sklearn.neighbors import KNeighborsClassifier\n",
    "from sklearn.metrics import accuracy_score\n",
    "import numpy as np\n",
    "\n",
    "# Load datasets\n",
    "iris = datasets.load_iris()\n",
    "wine = datasets.load_wine()\n",
    "\n",
    "# Split datasets into training (75%) and testing (25%)\n",
    "X_train_iris, X_test_iris, y_train_iris, y_test_iris = train_test_split(\n",
    "    iris.data, iris.target, test_size=0.25, random_state=42)\n",
    "\n",
    "X_train_wine, X_test_wine, y_train_wine, y_test_wine = train_test_split(\n",
    "    wine.data, wine.target, test_size=0.25, random_state=42)"
   ]
  },
  {
   "cell_type": "markdown",
   "id": "b510255b-e312-4817-a86b-e6db045d35e7",
   "metadata": {},
   "source": [
    "#### Decision Tree Algorithm"
   ]
  },
  {
   "cell_type": "code",
   "execution_count": 3,
   "id": "295d78f0-339b-4572-b567-52b295f3711c",
   "metadata": {},
   "outputs": [
    {
     "name": "stdout",
     "output_type": "stream",
     "text": [
      "1.0\n"
     ]
    }
   ],
   "source": [
    "import numpy as np\n",
    "from sklearn import datasets\n",
    "from sklearn.model_selection import train_test_split\n",
    "from sklearn.tree import DecisionTreeClassifier\n",
    "from sklearn.metrics import accuracy_score\n",
    "\n",
    "clf = DecisionTreeClassifier(random_state=42)\n",
    "clf.fit(X_train_iris, y_train_iris)\n",
    "y_pred_iris = clf.predict(X_test_iris)\n",
    "accuracy_iris = accuracy_score(y_test_iris, y_pred_iris)\n",
    "print(accuracy_iris)"
   ]
  },
  {
   "cell_type": "markdown",
   "id": "1c40624c-2b5d-49a6-8258-9577717b0a18",
   "metadata": {},
   "source": [
    "#### Cross Validation"
   ]
  },
  {
   "cell_type": "code",
   "execution_count": 4,
   "id": "bac5e5d2-f278-4ad1-a23a-1770be04d720",
   "metadata": {},
   "outputs": [
    {
     "name": "stdout",
     "output_type": "stream",
     "text": [
      "[1.         0.96666667 0.93333333 0.93333333 0.93333333]\n"
     ]
    }
   ],
   "source": [
    "#Code for cross validation\n",
    "\n",
    "from sklearn import datasets\n",
    "from sklearn.tree import DecisionTreeClassifier\n",
    "from sklearn.model_selection import cross_val_score, KFold\n",
    "from sklearn.metrics import make_scorer, accuracy_score\n",
    "\n",
    "iris = datasets.load_iris()\n",
    "\n",
    "clf = DecisionTreeClassifier(random_state=42)\n",
    "kf = KFold(n_splits=5, shuffle=True, random_state=42)\n",
    "\n",
    "iris_accuracies = cross_val_score(clf, iris.data, iris.target, cv=kf, scoring='accuracy')\n",
    "\n",
    "print(iris_accuracies)"
   ]
  },
  {
   "cell_type": "markdown",
   "id": "c8d13b1c-8ac2-4bbf-92c4-a0456e83c601",
   "metadata": {},
   "source": [
    "#### Clustering Algorithms:\n",
    "#### 1) K-means\n",
    "#### 2) DBSCAN\n",
    "#### 3) Agglomerative"
   ]
  },
  {
   "cell_type": "code",
   "execution_count": 6,
   "id": "dee35a8e-4ae7-408a-9445-19e86efed486",
   "metadata": {},
   "outputs": [
    {
     "name": "stdout",
     "output_type": "stream",
     "text": [
      "Cluster centroids:\n",
      "[[7.33333333 9.        ]\n",
      " [1.16666667 1.13333333]]\n",
      "Assigned cluster labels:\n",
      "[1 1 0 0 1 0]\n"
     ]
    }
   ],
   "source": [
    "#K-means\n",
    "\n",
    "import numpy as np\n",
    "from sklearn.cluster import KMeans\n",
    "import matplotlib.pyplot as plt\n",
    "\n",
    "data = np.array([[1, 1], [1.5, 1.8], [5, 8], [8, 8], [1, 0.6], [9, 11]])\n",
    "\n",
    "n_clusters = 2\n",
    "kmeans = KMeans(n_clusters=n_clusters, random_state=0)\n",
    "kmeans.fit(data)\n",
    "\n",
    "print(\"Cluster centroids:\")\n",
    "print(kmeans.cluster_centers_)\n",
    "\n",
    "print(\"Assigned cluster labels:\")\n",
    "print(kmeans.labels_)\n",
    "\n",
    "#DBSCAN\n",
    "\n",
    "from sklearn.cluster import DBSCAN\n",
    "dbscan = DBSCAN(eps=7, min_samples=5)\n",
    "labels = dbscan.fit_predict(data)\n",
    "np.unique(labels)\n",
    "\n",
    "#Agglomerative\n",
    "\n",
    "from sklearn.cluster import AgglomerativeClustering\n",
    "\n",
    "cluster = AgglomerativeClustering(n_clusters=5, metric='euclidean', linkage='ward')\n",
    "labels_=cluster.fit_predict(data)"
   ]
  }
 ],
 "metadata": {
  "kernelspec": {
   "display_name": "Python 3 (ipykernel)",
   "language": "python",
   "name": "python3"
  },
  "language_info": {
   "codemirror_mode": {
    "name": "ipython",
    "version": 3
   },
   "file_extension": ".py",
   "mimetype": "text/x-python",
   "name": "python",
   "nbconvert_exporter": "python",
   "pygments_lexer": "ipython3",
   "version": "3.12.2"
  }
 },
 "nbformat": 4,
 "nbformat_minor": 5
}
